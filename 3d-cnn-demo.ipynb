{
 "cells": [
  {
   "cell_type": "code",
   "execution_count": 1,
   "metadata": {},
   "outputs": [],
   "source": [
    "import numpy as np \n",
    "import h5py\n",
    "from tensorflow.keras.utils import to_categorical\n",
    "from tensorflow.keras import layers\n",
    "from tensorflow.keras.models import Sequential\n",
    "from tensorflow.keras.initializers import Constant\n",
    "from tensorflow.keras.optimizers import Adam\n",
    "from tensorflow.keras.callbacks import EarlyStopping"
   ]
  },
  {
   "cell_type": "code",
   "execution_count": 2,
   "metadata": {},
   "outputs": [
    {
     "name": "stdout",
     "output_type": "stream",
     "text": [
      "train shape: (10000, 4096)\n",
      "test shape: (2000, 4096)\n"
     ]
    }
   ],
   "source": [
    "with h5py.File('full_dataset_vectors.h5', 'r') as dataset:\n",
    "    xtrain, xtest = dataset[\"X_train\"][:], dataset[\"X_test\"][:]\n",
    "    ytrain, ytest = dataset[\"y_train\"][:], dataset[\"y_test\"][:]\n",
    "    xtrain = np.array(xtrain)\n",
    "    xtest = np.array(xtest)\n",
    "    print('train shape:', xtrain.shape)\n",
    "    print('test shape:', xtest.shape)\n",
    "    xtrain = xtrain.reshape(xtrain.shape[0], 16, 16, 16, 1)\n",
    "    xtest = xtest.reshape(xtest.shape[0], 16, 16, 16, 1)\n",
    "    ytrain, ytest = to_categorical(ytrain, 10), to_categorical(ytest, 10)"
   ]
  },
  {
   "cell_type": "code",
   "execution_count": 3,
   "metadata": {},
   "outputs": [
    {
     "name": "stdout",
     "output_type": "stream",
     "text": [
      "Model: \"sequential\"\n",
      "_________________________________________________________________\n",
      " Layer (type)                Output Shape              Param #   \n",
      "=================================================================\n",
      " conv3d (Conv3D)             (None, 14, 14, 14, 32)    896       \n",
      "                                                                 \n",
      " conv3d_1 (Conv3D)           (None, 12, 12, 12, 32)    27680     \n",
      "                                                                 \n",
      " max_pooling3d (MaxPooling3D  (None, 6, 6, 6, 32)      0         \n",
      " )                                                               \n",
      "                                                                 \n",
      " conv3d_2 (Conv3D)           (None, 4, 4, 4, 64)       55360     \n",
      "                                                                 \n",
      " conv3d_3 (Conv3D)           (None, 3, 3, 3, 64)       32832     \n",
      "                                                                 \n",
      " max_pooling3d_1 (MaxPooling  (None, 1, 1, 1, 64)      0         \n",
      " 3D)                                                             \n",
      "                                                                 \n",
      " dropout (Dropout)           (None, 1, 1, 1, 64)       0         \n",
      "                                                                 \n",
      " flatten (Flatten)           (None, 64)                0         \n",
      "                                                                 \n",
      " dense (Dense)               (None, 256)               16640     \n",
      "                                                                 \n",
      " dropout_1 (Dropout)         (None, 256)               0         \n",
      "                                                                 \n",
      " dense_1 (Dense)             (None, 128)               32896     \n",
      "                                                                 \n",
      " dropout_2 (Dropout)         (None, 128)               0         \n",
      "                                                                 \n",
      " dense_2 (Dense)             (None, 10)                1290      \n",
      "                                                                 \n",
      "=================================================================\n",
      "Total params: 167,594\n",
      "Trainable params: 167,594\n",
      "Non-trainable params: 0\n",
      "_________________________________________________________________\n"
     ]
    }
   ],
   "source": [
    "model = Sequential()\n",
    "model.add(layers.Conv3D(32,(3,3,3),activation='relu',input_shape=(16,16,16,1),bias_initializer=Constant(0.01)))\n",
    "model.add(layers.Conv3D(32,(3,3,3),activation='relu',bias_initializer=Constant(0.01)))\n",
    "model.add(layers.MaxPooling3D((2,2,2)))\n",
    "model.add(layers.Conv3D(64,(3,3,3),activation='relu'))\n",
    "model.add(layers.Conv3D(64,(2,2,2),activation='relu'))\n",
    "model.add(layers.MaxPooling3D((2,2,2)))\n",
    "model.add(layers.Dropout(0.6))\n",
    "model.add(layers.Flatten())\n",
    "model.add(layers.Dense(256,'relu'))\n",
    "model.add(layers.Dropout(0.7))\n",
    "model.add(layers.Dense(128,'relu'))\n",
    "model.add(layers.Dropout(0.5))\n",
    "model.add(layers.Dense(10,'softmax'))\n",
    "model.summary()"
   ]
  },
  {
   "cell_type": "code",
   "execution_count": 4,
   "metadata": {},
   "outputs": [
    {
     "name": "stdout",
     "output_type": "stream",
     "text": [
      "Epoch 1/20\n",
      "313/313 [==============================] - 153s 487ms/step - loss: 2.2475 - accuracy: 0.1455 - val_loss: 2.1203 - val_accuracy: 0.2500\n",
      "Epoch 2/20\n",
      "313/313 [==============================] - 154s 491ms/step - loss: 2.0617 - accuracy: 0.2484 - val_loss: 1.8675 - val_accuracy: 0.3165\n",
      "Epoch 3/20\n",
      "313/313 [==============================] - 152s 487ms/step - loss: 1.8868 - accuracy: 0.3159 - val_loss: 1.6531 - val_accuracy: 0.4040\n",
      "Epoch 4/20\n",
      "313/313 [==============================] - 165s 527ms/step - loss: 1.7421 - accuracy: 0.3688 - val_loss: 1.5162 - val_accuracy: 0.4435\n",
      "Epoch 5/20\n",
      "313/313 [==============================] - 150s 479ms/step - loss: 1.6176 - accuracy: 0.4162 - val_loss: 1.5313 - val_accuracy: 0.4360\n",
      "Epoch 6/20\n",
      "313/313 [==============================] - 159s 508ms/step - loss: 1.5277 - accuracy: 0.4680 - val_loss: 1.3375 - val_accuracy: 0.5455\n",
      "Epoch 7/20\n",
      "313/313 [==============================] - 182s 581ms/step - loss: 1.4624 - accuracy: 0.4911 - val_loss: 1.2347 - val_accuracy: 0.5670\n",
      "Epoch 8/20\n",
      "313/313 [==============================] - 176s 562ms/step - loss: 1.4042 - accuracy: 0.5072 - val_loss: 1.2334 - val_accuracy: 0.5830\n",
      "Epoch 9/20\n",
      "313/313 [==============================] - 189s 602ms/step - loss: 1.3607 - accuracy: 0.5284 - val_loss: 1.1882 - val_accuracy: 0.5815\n",
      "Epoch 10/20\n",
      "313/313 [==============================] - 181s 578ms/step - loss: 1.3277 - accuracy: 0.5429 - val_loss: 1.1674 - val_accuracy: 0.5990\n",
      "Epoch 11/20\n",
      "313/313 [==============================] - 178s 570ms/step - loss: 1.2921 - accuracy: 0.5468 - val_loss: 1.1554 - val_accuracy: 0.5975\n",
      "Epoch 12/20\n",
      "313/313 [==============================] - 179s 570ms/step - loss: 1.2657 - accuracy: 0.5537 - val_loss: 1.1854 - val_accuracy: 0.5870\n",
      "Epoch 13/20\n",
      "313/313 [==============================] - 180s 574ms/step - loss: 1.2378 - accuracy: 0.5700 - val_loss: 1.1492 - val_accuracy: 0.6045\n",
      "Epoch 14/20\n",
      "313/313 [==============================] - 176s 563ms/step - loss: 1.2207 - accuracy: 0.5755 - val_loss: 1.1081 - val_accuracy: 0.6160\n",
      "Epoch 15/20\n",
      "313/313 [==============================] - 174s 556ms/step - loss: 1.1834 - accuracy: 0.5862 - val_loss: 1.1039 - val_accuracy: 0.6235\n",
      "Epoch 16/20\n",
      "313/313 [==============================] - 162s 516ms/step - loss: 1.1767 - accuracy: 0.5891 - val_loss: 1.1101 - val_accuracy: 0.6255\n",
      "Epoch 17/20\n",
      "313/313 [==============================] - 150s 478ms/step - loss: 1.1493 - accuracy: 0.5985 - val_loss: 1.0935 - val_accuracy: 0.6225\n",
      "Epoch 18/20\n",
      "313/313 [==============================] - 150s 478ms/step - loss: 1.1390 - accuracy: 0.6036 - val_loss: 1.0815 - val_accuracy: 0.6240\n",
      "Epoch 19/20\n",
      "313/313 [==============================] - 163s 519ms/step - loss: 1.1155 - accuracy: 0.6119 - val_loss: 1.0775 - val_accuracy: 0.6245\n",
      "Epoch 20/20\n",
      "313/313 [==============================] - 167s 532ms/step - loss: 1.0996 - accuracy: 0.6112 - val_loss: 1.0632 - val_accuracy: 0.6475\n"
     ]
    },
    {
     "data": {
      "text/plain": [
       "<keras.callbacks.History at 0x16b66451450>"
      ]
     },
     "execution_count": 4,
     "metadata": {},
     "output_type": "execute_result"
    }
   ],
   "source": [
    "model.compile(Adam(0.001),'categorical_crossentropy',['accuracy'])\n",
    "model.fit(xtrain,ytrain,epochs=20,batch_size=32,verbose=1,validation_data=(xtest,ytest),callbacks=[EarlyStopping(patience=15)])\n"
   ]
  },
  {
   "cell_type": "code",
   "execution_count": 5,
   "metadata": {},
   "outputs": [
    {
     "name": "stdout",
     "output_type": "stream",
     "text": [
      "313/313 [==============================] - 23s 73ms/step - loss: 0.8861 - accuracy: 0.6904\n",
      "training accuracy: 69.04%\n",
      "63/63 [==============================] - 5s 77ms/step - loss: 1.0632 - accuracy: 0.6475\n",
      "testing accuracy: 64.75%\n"
     ]
    }
   ],
   "source": [
    "_, acc = model.evaluate(xtrain, ytrain)\n",
    "print('training accuracy:', str(round(acc*100, 2))+'%')\n",
    "_, acc = model.evaluate(xtest, ytest)\n",
    "print('testing accuracy:', str(round(acc*100, 2))+'%')"
   ]
  }
 ],
 "metadata": {
  "kernelspec": {
   "display_name": "Python 3",
   "language": "python",
   "name": "python3"
  },
  "language_info": {
   "codemirror_mode": {
    "name": "ipython",
    "version": 3
   },
   "file_extension": ".py",
   "mimetype": "text/x-python",
   "name": "python",
   "nbconvert_exporter": "python",
   "pygments_lexer": "ipython3",
   "version": "3.10.2"
  },
  "orig_nbformat": 4,
  "vscode": {
   "interpreter": {
    "hash": "26de051ba29f2982a8de78e945f0abaf191376122a1563185a90213a26c5da77"
   }
  }
 },
 "nbformat": 4,
 "nbformat_minor": 2
}
